{
 "cells": [
  {
   "cell_type": "markdown",
   "id": "5020de16",
   "metadata": {},
   "source": [
    "Write a Python program that demonstrates a simple try-except block to handle a ZeroDivisionError."
   ]
  },
  {
   "cell_type": "code",
   "execution_count": 3,
   "id": "b2481e98",
   "metadata": {},
   "outputs": [
    {
     "name": "stdout",
     "output_type": "stream",
     "text": [
      "ZeroDivisionError\n"
     ]
    }
   ],
   "source": [
    "try:\n",
    "    a = 0\n",
    "    b = 8/a\n",
    "except ZeroDivisionError:\n",
    "    print('ZeroDivisionError')"
   ]
  },
  {
   "cell_type": "markdown",
   "id": "510c0b9e",
   "metadata": {},
   "source": [
    "What is the purpose of the else clause in a try-except block? Provide an example."
   ]
  },
  {
   "cell_type": "code",
   "execution_count": 4,
   "id": "19e00491",
   "metadata": {},
   "outputs": [
    {
     "name": "stdout",
     "output_type": "stream",
     "text": [
      "Division successful. Result: 4.0\n"
     ]
    }
   ],
   "source": [
    "try:\n",
    "    a = 2\n",
    "    b = 8/a\n",
    "except ZeroDivisionError:\n",
    "    print('ZeroDivisionError')\n",
    "else:\n",
    "    print(\"Division successful. Result:\", b)"
   ]
  },
  {
   "cell_type": "markdown",
   "id": "213e8438",
   "metadata": {},
   "source": [
    "Explain the role of the finally keyword in exception handling. Write a code snippet to demonstrate its use."
   ]
  },
  {
   "cell_type": "code",
   "execution_count": 23,
   "id": "4f6335f4",
   "metadata": {},
   "outputs": [
    {
     "name": "stdout",
     "output_type": "stream",
     "text": [
      "Division successful. Result: 5.0\n",
      "it's the mandatory block\n",
      "Error: Division by zero is not allowed.\n",
      "it's the mandatory block\n"
     ]
    }
   ],
   "source": [
    "def divide(x, y):\n",
    "    try:\n",
    "        result = x / y\n",
    "    except ZeroDivisionError:\n",
    "        print(\"Error: Division by zero is not allowed.\")\n",
    "    else:\n",
    "        print(\"Division successful. Result:\", result)\n",
    "    finally:\n",
    "        print(\"it's the mandatory block\")\n",
    "\n",
    "\n",
    "divide(10, 2)\n",
    "divide(10, 0)\n"
   ]
  },
  {
   "cell_type": "markdown",
   "id": "28a825cd",
   "metadata": {},
   "source": [
    "Write a program that uses a try-except block to handle a FileNotFoundError."
   ]
  },
  {
   "cell_type": "code",
   "execution_count": 6,
   "id": "a40b08be",
   "metadata": {},
   "outputs": [
    {
     "name": "stdout",
     "output_type": "stream",
     "text": [
      "Error: File not found.\n"
     ]
    }
   ],
   "source": [
    "try:\n",
    "    file = open(\"example.txt\", \"r\")\n",
    "    content = file.read()\n",
    "    print(content)\n",
    "except FileNotFoundError:\n",
    "    print(\"Error: File not found.\")"
   ]
  },
  {
   "cell_type": "markdown",
   "id": "b518674e",
   "metadata": {},
   "source": [
    "Create a Python program that uses multiple except clauses to handle different types of exceptions."
   ]
  },
  {
   "cell_type": "code",
   "execution_count": 7,
   "id": "11a3e481",
   "metadata": {},
   "outputs": [
    {
     "name": "stdout",
     "output_type": "stream",
     "text": [
      "Division successful. Result: 5.0\n",
      "Error: Division by zero is not allowed.\n",
      "Error: Invalid type for division.\n",
      "Error: Invalid type for division.\n"
     ]
    }
   ],
   "source": [
    "def divide(x, y):\n",
    "    try:\n",
    "        result = x / y\n",
    "    except ZeroDivisionError:\n",
    "        print(\"Error: Division by zero is not allowed.\")\n",
    "    except TypeError:\n",
    "        print(\"Error: Invalid type for division.\")\n",
    "    except Exception as e:\n",
    "        print(\"An error occurred:\", e)\n",
    "    else:\n",
    "        print(\"Division successful. Result:\", result)\n",
    "\n",
    "\n",
    "divide(10, 2) \n",
    "divide(10, 0) \n",
    "divide(10, '2')  \n",
    "divide(10, [])  \n"
   ]
  },
  {
   "cell_type": "markdown",
   "id": "37c93388",
   "metadata": {},
   "source": [
    "Implement a function that raises a custom exception if a given number is negative."
   ]
  },
  {
   "cell_type": "code",
   "execution_count": 8,
   "id": "09a7a16a",
   "metadata": {},
   "outputs": [
    {
     "name": "stdout",
     "output_type": "stream",
     "text": [
      "Processing number: 10\n",
      "Error: -5 is a negative number.\n"
     ]
    }
   ],
   "source": [
    "class NegativeNumberError(Exception):\n",
    "    def __init__(self, number):\n",
    "        self.number = number\n",
    "        super().__init__(f\"Error: {number} is a negative number.\")\n",
    "\n",
    "def process_number(number):\n",
    "    if number < 0:\n",
    "        raise NegativeNumberError(number)\n",
    "    else:\n",
    "        print(f\"Processing number: {number}\")\n",
    "\n",
    "\n",
    "try:\n",
    "    process_number(10)  \n",
    "    process_number(-5)  \n",
    "    process_number(20)  \n",
    "except NegativeNumberError as e:\n",
    "    print(e)\n"
   ]
  },
  {
   "cell_type": "markdown",
   "id": "28762688",
   "metadata": {},
   "source": [
    "Write a function that uses the assert keyword to check if a given list is not empty."
   ]
  },
  {
   "cell_type": "code",
   "execution_count": 24,
   "id": "348bbe48",
   "metadata": {},
   "outputs": [
    {
     "name": "stdout",
     "output_type": "stream",
     "text": [
      "The list is not empty\n"
     ]
    },
    {
     "ename": "AssertionError",
     "evalue": "error",
     "output_type": "error",
     "traceback": [
      "\u001b[1;31m---------------------------------------------------------------------------\u001b[0m",
      "\u001b[1;31mAssertionError\u001b[0m                            Traceback (most recent call last)",
      "Cell \u001b[1;32mIn[24], line 7\u001b[0m\n\u001b[0;32m      3\u001b[0m     \u001b[38;5;28mprint\u001b[39m(\u001b[38;5;124m\"\u001b[39m\u001b[38;5;124mThe list is not empty\u001b[39m\u001b[38;5;124m\"\u001b[39m)\n\u001b[0;32m      6\u001b[0m check_non_empty_list([\u001b[38;5;241m1\u001b[39m, \u001b[38;5;241m2\u001b[39m, \u001b[38;5;241m3\u001b[39m]) \n\u001b[1;32m----> 7\u001b[0m check_non_empty_list([])\n",
      "Cell \u001b[1;32mIn[24], line 2\u001b[0m, in \u001b[0;36mcheck_non_empty_list\u001b[1;34m(input_list)\u001b[0m\n\u001b[0;32m      1\u001b[0m \u001b[38;5;28;01mdef\u001b[39;00m \u001b[38;5;21mcheck_non_empty_list\u001b[39m(input_list):\n\u001b[1;32m----> 2\u001b[0m     \u001b[38;5;28;01massert\u001b[39;00m \u001b[38;5;28mlen\u001b[39m(input_list) \u001b[38;5;241m>\u001b[39m \u001b[38;5;241m0\u001b[39m,\u001b[38;5;124mf\u001b[39m\u001b[38;5;124m'\u001b[39m\u001b[38;5;124merror\u001b[39m\u001b[38;5;124m'\u001b[39m\n\u001b[0;32m      3\u001b[0m     \u001b[38;5;28mprint\u001b[39m(\u001b[38;5;124m\"\u001b[39m\u001b[38;5;124mThe list is not empty\u001b[39m\u001b[38;5;124m\"\u001b[39m)\n",
      "\u001b[1;31mAssertionError\u001b[0m: error"
     ]
    }
   ],
   "source": [
    "def check_non_empty_list(input_list):\n",
    "    assert len(input_list) > 0\n",
    "    print(\"The list is not empty\")\n",
    "\n",
    "\n",
    "check_non_empty_list([1, 2, 3]) \n",
    "check_non_empty_list([])        \n"
   ]
  },
  {
   "cell_type": "markdown",
   "id": "f7861e8d",
   "metadata": {},
   "source": [
    "Develop a program that reads two numbers from the user and divides them. Handle different exceptions such as ZeroDivisionError and ValueError."
   ]
  },
  {
   "cell_type": "code",
   "execution_count": 25,
   "id": "ef8f7f27",
   "metadata": {},
   "outputs": [
    {
     "name": "stdout",
     "output_type": "stream",
     "text": [
      "Enter the first number: 45\n",
      "Enter the second number: gh\n",
      "Error: Please enter valid numbers.\n"
     ]
    }
   ],
   "source": [
    "\n",
    "try:\n",
    "    num1 = float(input(\"Enter the first number: \"))\n",
    "    num2 = float(input(\"Enter the second number: \"))\n",
    "\n",
    "\n",
    "    result = num1 / num2\n",
    "    print(\"Result of division:\", result)\n",
    "\n",
    "except ValueError:\n",
    "    print(\"Error: Please enter valid numbers.\")\n",
    "except ZeroDivisionError:\n",
    "    print(\"Error: Division by zero is not allowed.\")\n",
    "except Exception as e:\n",
    "    print(\"An unexpected error occurred:\", e)\n",
    "\n",
    "\n"
   ]
  },
  {
   "cell_type": "markdown",
   "id": "4a043e90",
   "metadata": {},
   "source": [
    "Write a function that takes a string as input and converts it to an integer. Handle the ValueError exception."
   ]
  },
  {
   "cell_type": "code",
   "execution_count": 13,
   "id": "273b88df",
   "metadata": {},
   "outputs": [
    {
     "name": "stdout",
     "output_type": "stream",
     "text": [
      "Error: Unable to convert the string to an integer.\n"
     ]
    }
   ],
   "source": [
    "def string_to_integer(input_string):\n",
    "    try:\n",
    "        integer_value = int(input_string)\n",
    "        return integer_value\n",
    "    except ValueError:\n",
    "        print(\"Error: Unable to convert the string to an integer.\")\n",
    "        return None\n",
    "    \n",
    "input_str1 = \"123\"\n",
    "input_str2 = \"abc\"\n",
    "\n",
    "result1 = string_to_integer(input_str1)\n",
    "result2 = string_to_integer(input_str2)"
   ]
  },
  {
   "cell_type": "markdown",
   "id": "e09663a8",
   "metadata": {},
   "source": [
    "Create a program that uses the try, except, else, and finally blocks to open a file, read its contents, and print them."
   ]
  },
  {
   "cell_type": "code",
   "execution_count": 15,
   "id": "5f7daa25",
   "metadata": {},
   "outputs": [
    {
     "name": "stdout",
     "output_type": "stream",
     "text": [
      "File contents:\n",
      "Novels are windows into worlds unseen, adventures waiting to unfold with every turn of a page\n",
      "File closed.\n"
     ]
    }
   ],
   "source": [
    "filename = \"f1.txt\"\n",
    "try:\n",
    "    file = open(filename, \"r\")\n",
    "except FileNotFoundError:\n",
    "    print(f\"Error: File '{filename}' not found.\")\n",
    "except Exception as e:\n",
    "    print(\"An unexpected error occurred while opening the file:\", e)\n",
    "else:\n",
    "    try:\n",
    "        contents = file.read()\n",
    "        print(\"File contents:\")\n",
    "        print(contents)\n",
    "    except Exception as e:\n",
    "        print(\"An unexpected error occurred while reading the file:\", e)\n",
    "    finally:\n",
    "        file.close()\n",
    "        print(\"File closed.\")\n",
    "\n",
    "\n"
   ]
  },
  {
   "cell_type": "markdown",
   "id": "2f976b31",
   "metadata": {},
   "source": [
    "Define a custom exception class named CustomError. Write a program that raises this exception when a certain condition is met."
   ]
  },
  {
   "cell_type": "code",
   "execution_count": 16,
   "id": "58b2c87a",
   "metadata": {},
   "outputs": [
    {
     "name": "stdout",
     "output_type": "stream",
     "text": [
      "Error: Value cannot be negative.\n"
     ]
    }
   ],
   "source": [
    "class CustomError(Exception):\n",
    "    def __init__(self, message):\n",
    "        super().__init__(message)\n",
    "\n",
    "def check_condition(value):\n",
    "    if value < 0:\n",
    "        raise CustomError(\"Error: Value cannot be negative.\")\n",
    "\n",
    "try:\n",
    "    check_condition(5)\n",
    "    check_condition(-2)\n",
    "    check_condition(10)\n",
    "except CustomError as e:\n",
    "    print(e)\n"
   ]
  },
  {
   "cell_type": "markdown",
   "id": "4718ee7b",
   "metadata": {},
   "source": [
    "Implement a function that reads a file and prints its content. If the file is not found, raise a FileNotFoundError with a custom error message."
   ]
  },
  {
   "cell_type": "code",
   "execution_count": 17,
   "id": "7d65d3f0",
   "metadata": {},
   "outputs": [
    {
     "name": "stdout",
     "output_type": "stream",
     "text": [
      "File contents:\n",
      "Novels are windows into worlds unseen, adventures waiting to unfold with every turn of a page\n"
     ]
    }
   ],
   "source": [
    "\n",
    "try:\n",
    "    with open(filename, 'r') as file:\n",
    "    content = file.read()\n",
    "    print(\"File contents:\")\n",
    "    print(content)\n",
    "    \n",
    "except FileNotFoundError:\n",
    "    raise FileNotFoundError(f\"Error: File '{filename}' not found.\")\n",
    "    \n",
    "except Exception as e:\n",
    "    print(f\"An unexpected error occurred: {e}\")"
   ]
  },
  {
   "cell_type": "markdown",
   "id": "368cfff7",
   "metadata": {},
   "source": [
    "Develop a program that uses the assert keyword to check if a given number is positive. If not, raise an AssertionError with a custom message."
   ]
  },
  {
   "cell_type": "code",
   "execution_count": 18,
   "id": "dffe1621",
   "metadata": {},
   "outputs": [
    {
     "name": "stdout",
     "output_type": "stream",
     "text": [
      "Error: -2 is not a positive number.\n"
     ]
    }
   ],
   "source": [
    "def check_positive_number(number):\n",
    "    assert number > 0, f\"Error: {number} is not a positive number.\"\n",
    "\n",
    "\n",
    "try:\n",
    "    check_positive_number(5)  \n",
    "    check_positive_number(-2)  \n",
    "    check_positive_number(10) \n",
    "except AssertionError as e:\n",
    "    print(e)\n"
   ]
  },
  {
   "cell_type": "markdown",
   "id": "93fd3391",
   "metadata": {},
   "source": [
    "Create a function that calculates the square root of a positive number. Handle the ValueError exception if the user enters a negative number."
   ]
  },
  {
   "cell_type": "code",
   "execution_count": 22,
   "id": "33c71719",
   "metadata": {},
   "outputs": [
    {
     "name": "stdout",
     "output_type": "stream",
     "text": [
      "4.0\n",
      "Error: Negative number entered.\n",
      "None\n"
     ]
    }
   ],
   "source": [
    "def calculate_square_root(number):\n",
    "    try:\n",
    "        if number < 0:\n",
    "            raise ValueError(\"Error: Negative number entered.\")\n",
    "        return (number)**0.5\n",
    "    except ValueError as e:\n",
    "        print(e)\n",
    "        return None\n",
    "    \n",
    "print(calculate_square_root(16))\n",
    "print(calculate_square_root(-9))\n"
   ]
  }
 ],
 "metadata": {
  "kernelspec": {
   "display_name": "Python 3 (ipykernel)",
   "language": "python",
   "name": "python3"
  },
  "language_info": {
   "codemirror_mode": {
    "name": "ipython",
    "version": 3
   },
   "file_extension": ".py",
   "mimetype": "text/x-python",
   "name": "python",
   "nbconvert_exporter": "python",
   "pygments_lexer": "ipython3",
   "version": "3.11.5"
  }
 },
 "nbformat": 4,
 "nbformat_minor": 5
}
